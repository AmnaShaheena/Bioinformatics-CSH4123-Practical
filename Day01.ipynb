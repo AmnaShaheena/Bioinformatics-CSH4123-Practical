{
  "nbformat": 4,
  "nbformat_minor": 0,
  "metadata": {
    "colab": {
      "provenance": [],
      "authorship_tag": "ABX9TyP1wnbdVg79l+S0nQoCTyg5",
      "include_colab_link": true
    },
    "kernelspec": {
      "name": "python3",
      "display_name": "Python 3"
    },
    "language_info": {
      "name": "python"
    }
  },
  "cells": [
    {
      "cell_type": "markdown",
      "metadata": {
        "id": "view-in-github",
        "colab_type": "text"
      },
      "source": [
        "<a href=\"https://colab.research.google.com/github/AmnaShaheena/Bioinformatics-CSH4123-Practical/blob/main/Day01.ipynb\" target=\"_parent\"><img src=\"https://colab.research.google.com/assets/colab-badge.svg\" alt=\"Open In Colab\"/></a>"
      ]
    },
    {
      "cell_type": "markdown",
      "source": [
        "1.Given 2 numbers ,If the product of the numbers is less than 1000, print the product; otherwise, print their sum."
      ],
      "metadata": {
        "id": "otYIjdwzFp1h"
      }
    },
    {
      "cell_type": "code",
      "source": [
        "x = 20\n",
        "y = 30\n",
        "\n",
        "if (x * y) < 1000:\n",
        "    print(\"The product is :\", x*y)\n",
        "else:\n",
        "    print(\"The sum is :\", x+y)"
      ],
      "metadata": {
        "colab": {
          "base_uri": "https://localhost:8080/"
        },
        "id": "n8mNFAb7FxNE",
        "outputId": "44665823-b749-4006-f437-f577e1bbcc55"
      },
      "execution_count": 1,
      "outputs": [
        {
          "output_type": "stream",
          "name": "stdout",
          "text": [
            "The product is : 600\n"
          ]
        }
      ]
    },
    {
      "cell_type": "code",
      "source": [
        "x=40\n",
        "y=30\n",
        "\n",
        "if (x*y)<1000:\n",
        "    print(\"The product is :\",x*y)\n",
        "else:\n",
        "    print(\"The sum is :\",x+y)"
      ],
      "metadata": {
        "colab": {
          "base_uri": "https://localhost:8080/"
        },
        "id": "bTK1jm8CTBag",
        "outputId": "ebbc1770-38ea-4000-f571-b1efc0214607"
      },
      "execution_count": 2,
      "outputs": [
        {
          "output_type": "stream",
          "name": "stdout",
          "text": [
            "The sum is : 70\n"
          ]
        }
      ]
    },
    {
      "cell_type": "markdown",
      "source": [
        "2.check if a number is even or odd\n",
        "write an python program that takes an integer input from the user and prints whether the number is \"Even\" or \"Odd\"\n"
      ],
      "metadata": {
        "id": "NhOH3nBQTNED"
      }
    },
    {
      "cell_type": "code",
      "source": [
        "num =int (input(\"value :  \"))\n",
        "if(num%2==0):\n",
        "    print(\"Even\")\n",
        "else:\n",
        "    print(\"Odd\")"
      ],
      "metadata": {
        "colab": {
          "base_uri": "https://localhost:8080/"
        },
        "id": "ERKXz7KdTL_K",
        "outputId": "0c4f158e-6598-4d1a-9daf-33b79e45e959"
      },
      "execution_count": 3,
      "outputs": [
        {
          "output_type": "stream",
          "name": "stdout",
          "text": [
            "value :  35\n",
            "Odd\n"
          ]
        }
      ]
    },
    {
      "cell_type": "markdown",
      "source": [
        "3.Find the Average of list of numbers.\n",
        "write a program that takes a list of numbers and calculates their average"
      ],
      "metadata": {
        "id": "mSQrZU4FTiBx"
      }
    },
    {
      "cell_type": "code",
      "source": [
        "Num=[1,2,3,4,5]\n",
        "summ=0\n",
        "for x in Num:\n",
        "    print(x)\n",
        "    summ+=x\n",
        "    Avg=summ/len(Num)\n",
        "\n",
        "\n",
        "print(\"Average: \",Avg)\n",
        ""
      ],
      "metadata": {
        "colab": {
          "base_uri": "https://localhost:8080/"
        },
        "id": "lVVuzlnKTcCN",
        "outputId": "8b105966-4fbb-43c8-a401-721c26bfe10f"
      },
      "execution_count": 8,
      "outputs": [
        {
          "output_type": "stream",
          "name": "stdout",
          "text": [
            "1\n",
            "2\n",
            "3\n",
            "4\n",
            "5\n",
            "Average:  3.0\n"
          ]
        }
      ]
    },
    {
      "cell_type": "markdown",
      "source": [
        "4.count vowels in a String\n",
        "write a program that counts how many vowels\n",
        "(a,e,i,o,u) are in a given string"
      ],
      "metadata": {
        "id": "Tre-rFoVUkq4"
      }
    },
    {
      "cell_type": "code",
      "source": [
        "words=input(\"Type a String:\" )\n",
        "vowels=0\n",
        "for x in words:\n",
        "    if x in 'aeiouAEIOU':\n",
        "        vowels+=1\n",
        "print(\"The Count of the Vowels: \",vowels)"
      ],
      "metadata": {
        "colab": {
          "base_uri": "https://localhost:8080/"
        },
        "id": "LQC7ajM_T3zW",
        "outputId": "7c2cbe6a-beb4-4ba3-c8c9-253e91d1ecd1"
      },
      "execution_count": 9,
      "outputs": [
        {
          "output_type": "stream",
          "name": "stdout",
          "text": [
            "Type a String:shaheenaamnawerwr\n",
            "The Count of the Vowels:  7\n"
          ]
        }
      ]
    },
    {
      "cell_type": "markdown",
      "source": [
        "5.Fibonacci series\n"
      ],
      "metadata": {
        "id": "7yk07OV_Vh52"
      }
    },
    {
      "cell_type": "code",
      "source": [
        "n = int(input(\"Enter the number of terms: \"))\n",
        "a, b = 0, 1\n",
        "count = 0\n",
        "fib_series = []\n",
        "\n",
        "while count < n:\n",
        "    fib_series.append(a)\n",
        "    a, b = b, a + b\n",
        "    count += 1\n",
        "\n",
        "print(\"Fibonacci series:\")\n",
        "print(fib_series)"
      ],
      "metadata": {
        "colab": {
          "base_uri": "https://localhost:8080/"
        },
        "id": "LR0TvRIsVlEs",
        "outputId": "a0f74815-37b4-46f9-9bfb-97277d2e5884"
      },
      "execution_count": 13,
      "outputs": [
        {
          "output_type": "stream",
          "name": "stdout",
          "text": [
            "Enter the number of terms: 10\n",
            "Fibonacci series:\n",
            "[0, 1, 1, 2, 3, 5, 8, 13, 21, 34]\n"
          ]
        }
      ]
    },
    {
      "cell_type": "markdown",
      "source": [
        "6.check whether the given user input is prime number or not"
      ],
      "metadata": {
        "id": "J2PnT348Vpfv"
      }
    },
    {
      "cell_type": "code",
      "source": [
        "num = int(input(\"Enter an integer: \"))\n",
        "\n",
        "if num <= 1:\n",
        "    print(\"Invalid\")\n",
        "else:\n",
        "\n",
        "    is_prime = True\n",
        "\n",
        "    for i in range(2, int(num**0.5) + 1):\n",
        "        if num % i == 0:\n",
        "            is_prime = False\n",
        "            break\n",
        "\n",
        "    if is_prime:\n",
        "        print(\"Prime\")\n",
        "    else:\n",
        "        print(\"Not a Prime\")"
      ],
      "metadata": {
        "colab": {
          "base_uri": "https://localhost:8080/"
        },
        "id": "xEXrqAItV1e2",
        "outputId": "9bfdb4c8-2c62-476c-fbff-f28330ecca79"
      },
      "execution_count": 14,
      "outputs": [
        {
          "output_type": "stream",
          "name": "stdout",
          "text": [
            "Enter an integer: 43\n",
            "Prime\n"
          ]
        }
      ]
    },
    {
      "cell_type": "markdown",
      "source": [
        "7. Convert celsius to Fahrenheit\n",
        " Write a program that converts a temperature from Celsius to Fahrenheit."
      ],
      "metadata": {
        "id": "vCv_O6BCUtHP"
      }
    },
    {
      "cell_type": "code",
      "source": [
        "celsius = float(input(\"Enter temperature in Celsius: \"))\n",
        "fahrenheit = (celsius * 9/5) + 32\n",
        "print(f\"{celsius}°C is equal to {fahrenheit}°F\")"
      ],
      "metadata": {
        "colab": {
          "base_uri": "https://localhost:8080/"
        },
        "id": "LaLsIqDKUtGX",
        "outputId": "0aac7f57-a9ed-4158-8523-58ee40fc6267"
      },
      "execution_count": 10,
      "outputs": [
        {
          "output_type": "stream",
          "name": "stdout",
          "text": [
            "Enter temperature in Celsius: 34\n",
            "34.0°C is equal to 93.2°F\n"
          ]
        }
      ]
    },
    {
      "cell_type": "markdown",
      "source": [
        "8. Print pattern of stars\n",
        " Write a program to print a simple pattern of stars,\n",
        " pyramid of stars based on a user input for the number of rows"
      ],
      "metadata": {
        "id": "5r_DD4h0U3rn"
      }
    },
    {
      "cell_type": "code",
      "source": [
        "n = int(input(\"Enter the number of lines: \"))\n",
        "\n",
        "for i in range(n):\n",
        "    for j in range(i):\n",
        "        print(\"* \", end=\"\")\n",
        "    print()\n",
        ""
      ],
      "metadata": {
        "colab": {
          "base_uri": "https://localhost:8080/"
        },
        "id": "Eu2g4viIU7sE",
        "outputId": "21cc3272-6384-4ad5-fca3-2c2aa2ef06d4"
      },
      "execution_count": 11,
      "outputs": [
        {
          "output_type": "stream",
          "name": "stdout",
          "text": [
            "Enter the number of lines: 5\n",
            "\n",
            "* \n",
            "* * \n",
            "* * * \n",
            "* * * * \n"
          ]
        }
      ]
    },
    {
      "cell_type": "code",
      "source": [
        "n = int(input(\"Enter the number of lines: \"))\n",
        "\n",
        "for i in range(1, n + 1):\n",
        "\n",
        "    print(\" \" * (n - i), end=\"\")\n",
        "    print(\"* \" * i)"
      ],
      "metadata": {
        "colab": {
          "base_uri": "https://localhost:8080/"
        },
        "id": "iThhySC_VUgt",
        "outputId": "672f32b5-3419-4b31-ef1c-c2a0e2b5b26f"
      },
      "execution_count": 12,
      "outputs": [
        {
          "output_type": "stream",
          "name": "stdout",
          "text": [
            "Enter the number of lines: 6\n",
            "     * \n",
            "    * * \n",
            "   * * * \n",
            "  * * * * \n",
            " * * * * * \n",
            "* * * * * * \n"
          ]
        }
      ]
    },
    {
      "cell_type": "code",
      "source": [],
      "metadata": {
        "id": "MUX-SY4mVXtg"
      },
      "execution_count": null,
      "outputs": []
    }
  ]
}