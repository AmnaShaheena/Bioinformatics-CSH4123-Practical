{
  "nbformat": 4,
  "nbformat_minor": 0,
  "metadata": {
    "colab": {
      "provenance": [],
      "authorship_tag": "ABX9TyNXvd7u4FX5N0/zZfwCE5Iz",
      "include_colab_link": true
    },
    "kernelspec": {
      "name": "python3",
      "display_name": "Python 3"
    },
    "language_info": {
      "name": "python"
    }
  },
  "cells": [
    {
      "cell_type": "markdown",
      "metadata": {
        "id": "view-in-github",
        "colab_type": "text"
      },
      "source": [
        "<a href=\"https://colab.research.google.com/github/AmnaShaheena/Bioinformatics-CSH4123-Practical/blob/main/Day04.ipynb\" target=\"_parent\"><img src=\"https://colab.research.google.com/assets/colab-badge.svg\" alt=\"Open In Colab\"/></a>"
      ]
    },
    {
      "cell_type": "markdown",
      "source": [
        "can contains different datatypes in a one list\n",
        "can repeat same values"
      ],
      "metadata": {
        "id": "iSu9HK6rwRYE"
      }
    },
    {
      "cell_type": "code",
      "execution_count": 4,
      "metadata": {
        "id": "D6sN6PkIvz5D"
      },
      "outputs": [],
      "source": [
        "List=['Apple',20,'Orange',15,'Apple']"
      ]
    },
    {
      "cell_type": "code",
      "source": [
        "print(List)"
      ],
      "metadata": {
        "colab": {
          "base_uri": "https://localhost:8080/"
        },
        "id": "Q9wPHJFPwAqk",
        "outputId": "a36e3068-07b7-4ccd-e425-2e3cd21f27cc"
      },
      "execution_count": 3,
      "outputs": [
        {
          "output_type": "stream",
          "name": "stdout",
          "text": [
            "['Apple', 20, 'Orange', 15]\n"
          ]
        }
      ]
    },
    {
      "cell_type": "code",
      "source": [
        "print(len(List))"
      ],
      "metadata": {
        "colab": {
          "base_uri": "https://localhost:8080/"
        },
        "id": "5U2iC_1rwDiY",
        "outputId": "40af2c90-8506-4ed0-d400-a2514fab2e7f"
      },
      "execution_count": 5,
      "outputs": [
        {
          "output_type": "stream",
          "name": "stdout",
          "text": [
            "5\n"
          ]
        }
      ]
    },
    {
      "cell_type": "code",
      "source": [
        "print(type(List))"
      ],
      "metadata": {
        "colab": {
          "base_uri": "https://localhost:8080/"
        },
        "id": "nGMTQ4y7wf4c",
        "outputId": "b6f5c174-b371-4609-e603-dd88fc3f5189"
      },
      "execution_count": 6,
      "outputs": [
        {
          "output_type": "stream",
          "name": "stdout",
          "text": [
            "<class 'list'>\n"
          ]
        }
      ]
    },
    {
      "cell_type": "code",
      "source": [
        "number=[1,2,3,4,5,6]\n",
        "print(number)"
      ],
      "metadata": {
        "colab": {
          "base_uri": "https://localhost:8080/"
        },
        "id": "m2dbMxXZwiez",
        "outputId": "70592bb0-10f7-42d4-ff35-30878be4aea2"
      },
      "execution_count": 7,
      "outputs": [
        {
          "output_type": "stream",
          "name": "stdout",
          "text": [
            "[1, 2, 3, 4, 5, 6]\n"
          ]
        }
      ]
    },
    {
      "cell_type": "code",
      "source": [
        "number[2]"
      ],
      "metadata": {
        "colab": {
          "base_uri": "https://localhost:8080/"
        },
        "id": "AveM5IZ5wv07",
        "outputId": "d4c0f349-186b-4138-f47e-25c747da5391"
      },
      "execution_count": 8,
      "outputs": [
        {
          "output_type": "execute_result",
          "data": {
            "text/plain": [
              "3"
            ]
          },
          "metadata": {},
          "execution_count": 8
        }
      ]
    },
    {
      "cell_type": "code",
      "source": [
        "len(number)"
      ],
      "metadata": {
        "colab": {
          "base_uri": "https://localhost:8080/"
        },
        "id": "x5RTw7s6wx4L",
        "outputId": "ad742f1d-f886-4146-8e7b-a9258fd8f6a4"
      },
      "execution_count": 9,
      "outputs": [
        {
          "output_type": "execute_result",
          "data": {
            "text/plain": [
              "6"
            ]
          },
          "metadata": {},
          "execution_count": 9
        }
      ]
    },
    {
      "cell_type": "code",
      "source": [
        "number.append(7)"
      ],
      "metadata": {
        "id": "Yy1_a77TxGs8"
      },
      "execution_count": 11,
      "outputs": []
    },
    {
      "cell_type": "code",
      "source": [
        "print(number)"
      ],
      "metadata": {
        "colab": {
          "base_uri": "https://localhost:8080/"
        },
        "id": "7QuG0BPLxPD2",
        "outputId": "601885d3-29c6-43e6-d657-44a0aa675ebb"
      },
      "execution_count": 12,
      "outputs": [
        {
          "output_type": "stream",
          "name": "stdout",
          "text": [
            "[1, 2, 3, 4, 5, 6, 7]\n"
          ]
        }
      ]
    },
    {
      "cell_type": "code",
      "source": [
        "print(type(number))"
      ],
      "metadata": {
        "colab": {
          "base_uri": "https://localhost:8080/"
        },
        "id": "F4U8JU9NxT6U",
        "outputId": "ee67c5f0-54ab-4505-cdb8-1eac3eb55d42"
      },
      "execution_count": 13,
      "outputs": [
        {
          "output_type": "stream",
          "name": "stdout",
          "text": [
            "<class 'list'>\n"
          ]
        }
      ]
    },
    {
      "cell_type": "code",
      "source": [
        "number.pop(3)"
      ],
      "metadata": {
        "colab": {
          "base_uri": "https://localhost:8080/"
        },
        "id": "9isxg4iexZLl",
        "outputId": "e823ec9e-a27a-47ab-a84c-e8f99ffd84c1"
      },
      "execution_count": 14,
      "outputs": [
        {
          "output_type": "execute_result",
          "data": {
            "text/plain": [
              "4"
            ]
          },
          "metadata": {},
          "execution_count": 14
        }
      ]
    },
    {
      "cell_type": "code",
      "source": [
        "print(number)"
      ],
      "metadata": {
        "colab": {
          "base_uri": "https://localhost:8080/"
        },
        "id": "h-Xz0L1OxfuF",
        "outputId": "27b08081-7ca5-4a93-8521-b12937bf44a8"
      },
      "execution_count": 15,
      "outputs": [
        {
          "output_type": "stream",
          "name": "stdout",
          "text": [
            "[1, 2, 3, 5, 6, 7]\n"
          ]
        }
      ]
    },
    {
      "cell_type": "code",
      "source": [
        "number.clear()"
      ],
      "metadata": {
        "id": "LYQaceFnxuWj"
      },
      "execution_count": 18,
      "outputs": []
    },
    {
      "cell_type": "code",
      "source": [
        "print(number)"
      ],
      "metadata": {
        "colab": {
          "base_uri": "https://localhost:8080/"
        },
        "id": "zdvn-CUuxztM",
        "outputId": "2b701a27-3f61-44d2-bf7e-750261c80047"
      },
      "execution_count": 19,
      "outputs": [
        {
          "output_type": "stream",
          "name": "stdout",
          "text": [
            "[]\n"
          ]
        }
      ]
    },
    {
      "cell_type": "code",
      "source": [
        "number=[1,2,3,4,5,6]\n",
        "number.copy()"
      ],
      "metadata": {
        "colab": {
          "base_uri": "https://localhost:8080/"
        },
        "id": "mdYML9Gbx2ha",
        "outputId": "ccd377cf-d695-4fb1-9437-f25b59f27fc7"
      },
      "execution_count": 20,
      "outputs": [
        {
          "output_type": "execute_result",
          "data": {
            "text/plain": [
              "[1, 2, 3, 4, 5, 6]"
            ]
          },
          "metadata": {},
          "execution_count": 20
        }
      ]
    },
    {
      "cell_type": "code",
      "source": [
        "number.count(5)"
      ],
      "metadata": {
        "colab": {
          "base_uri": "https://localhost:8080/"
        },
        "id": "oJts2pDTydP-",
        "outputId": "f0b5e4ef-6c5f-43e3-d51d-fd71c0ed255a"
      },
      "execution_count": 23,
      "outputs": [
        {
          "output_type": "execute_result",
          "data": {
            "text/plain": [
              "1"
            ]
          },
          "metadata": {},
          "execution_count": 23
        }
      ]
    },
    {
      "cell_type": "code",
      "source": [
        "List.extend([8,51,67])\n",
        "print(List)"
      ],
      "metadata": {
        "colab": {
          "base_uri": "https://localhost:8080/"
        },
        "id": "CN2AeTZNy9a1",
        "outputId": "779887d6-ab4a-4079-a7f5-5c5d850416c9"
      },
      "execution_count": 27,
      "outputs": [
        {
          "output_type": "stream",
          "name": "stdout",
          "text": [
            "['Apple', 20, 'Orange', 15, 'Apple', 8, 51, 67, 8, 51, 67]\n"
          ]
        }
      ]
    },
    {
      "cell_type": "code",
      "source": [
        "List.index('Apple')"
      ],
      "metadata": {
        "colab": {
          "base_uri": "https://localhost:8080/"
        },
        "id": "42Q5VO8zzAUo",
        "outputId": "12ef4c3f-4794-4219-f7ec-5b7cf02af35f"
      },
      "execution_count": 28,
      "outputs": [
        {
          "output_type": "execute_result",
          "data": {
            "text/plain": [
              "0"
            ]
          },
          "metadata": {},
          "execution_count": 28
        }
      ]
    },
    {
      "cell_type": "code",
      "source": [
        "List.insert(2,'Mango')\n",
        "print(List)"
      ],
      "metadata": {
        "colab": {
          "base_uri": "https://localhost:8080/"
        },
        "id": "GA4CGr_mzbVd",
        "outputId": "1a5ede29-4e7a-4b8b-84af-b3348a8be6df"
      },
      "execution_count": 29,
      "outputs": [
        {
          "output_type": "stream",
          "name": "stdout",
          "text": [
            "['Apple', 20, 'Mango', 'Orange', 15, 'Apple', 8, 51, 67, 8, 51, 67]\n"
          ]
        }
      ]
    },
    {
      "cell_type": "code",
      "source": [
        "List.remove('Apple')\n",
        "print(List)"
      ],
      "metadata": {
        "colab": {
          "base_uri": "https://localhost:8080/"
        },
        "id": "knKlxeozzfGg",
        "outputId": "554c752a-49ac-48e1-8893-4bc92dc3bf4e"
      },
      "execution_count": 31,
      "outputs": [
        {
          "output_type": "stream",
          "name": "stdout",
          "text": [
            "[20, 'Mango', 'Orange', 15, 8, 51, 67, 8, 51, 67]\n"
          ]
        }
      ]
    },
    {
      "cell_type": "code",
      "source": [
        "numbers=[22,4,93,14]\n",
        "numbers.sort()\n",
        "print(numbers)"
      ],
      "metadata": {
        "colab": {
          "base_uri": "https://localhost:8080/"
        },
        "id": "gSo0EPevzrun",
        "outputId": "bf6d5b0f-cd71-426e-d258-48ee6abdb2c7"
      },
      "execution_count": 38,
      "outputs": [
        {
          "output_type": "stream",
          "name": "stdout",
          "text": [
            "[4, 14, 22, 93]\n"
          ]
        }
      ]
    },
    {
      "cell_type": "code",
      "source": [
        "import numpy as np"
      ],
      "metadata": {
        "id": "HeCVIotsz5Uk"
      },
      "execution_count": 39,
      "outputs": []
    },
    {
      "cell_type": "code",
      "source": [
        "list=[1,2,3,4,5,6,7,8,9]\n",
        "list\n",
        "np_array=np.array(list)\n",
        "np_array"
      ],
      "metadata": {
        "colab": {
          "base_uri": "https://localhost:8080/"
        },
        "id": "twETDfDX0vKd",
        "outputId": "c74ed4a3-84e9-4dca-f02f-beed10efda86"
      },
      "execution_count": 43,
      "outputs": [
        {
          "output_type": "execute_result",
          "data": {
            "text/plain": [
              "array([1, 2, 3, 4, 5, 6, 7, 8, 9])"
            ]
          },
          "metadata": {},
          "execution_count": 43
        }
      ]
    },
    {
      "cell_type": "code",
      "source": [
        "import numpy as np\n",
        "rows=3\n",
        "cols=3\n",
        "list_of_list=[[j for j in range(cols)]for i in range(rows)]\n",
        "list_of_list\n",
        "\n"
      ],
      "metadata": {
        "colab": {
          "base_uri": "https://localhost:8080/"
        },
        "id": "bWbK7CQk1HLM",
        "outputId": "b672b25c-235c-48cd-b501-4da447c5d408"
      },
      "execution_count": 51,
      "outputs": [
        {
          "output_type": "execute_result",
          "data": {
            "text/plain": [
              "[[0, 1, 2], [0, 1, 2], [0, 1, 2]]"
            ]
          },
          "metadata": {},
          "execution_count": 51
        }
      ]
    },
    {
      "cell_type": "code",
      "source": [
        "import numpy as np\n",
        "x=3\n",
        "y=3\n",
        "z=3\n",
        "\n",
        "list_of_list=[[[j for j in range(y)]for i in range(x)]for k in range(z)]\n",
        "list_of_list\n"
      ],
      "metadata": {
        "colab": {
          "base_uri": "https://localhost:8080/"
        },
        "id": "Q9eNn3tc3Na1",
        "outputId": "ff64a700-c78a-4165-c774-8f880de9cc33"
      },
      "execution_count": 54,
      "outputs": [
        {
          "output_type": "execute_result",
          "data": {
            "text/plain": [
              "[[[0, 1, 2], [0, 1, 2], [0, 1, 2]],\n",
              " [[0, 1, 2], [0, 1, 2], [0, 1, 2]],\n",
              " [[0, 1, 2], [0, 1, 2], [0, 1, 2]]]"
            ]
          },
          "metadata": {},
          "execution_count": 54
        }
      ]
    },
    {
      "cell_type": "code",
      "source": [
        "list_of_list[0][1][1]"
      ],
      "metadata": {
        "colab": {
          "base_uri": "https://localhost:8080/"
        },
        "id": "1MN3FVF76A8G",
        "outputId": "f993ca3b-3c08-4d17-8fe8-056a934890c4"
      },
      "execution_count": 57,
      "outputs": [
        {
          "output_type": "execute_result",
          "data": {
            "text/plain": [
              "1"
            ]
          },
          "metadata": {},
          "execution_count": 57
        }
      ]
    },
    {
      "cell_type": "code",
      "source": [
        "import numpy as np\n",
        "arr_1=[2,6,8,3]\n",
        "arr_2=[3,98,1,3]\n",
        "arr_3=[5,1,0,5]\n",
        "\n",
        "array_3d=np.array([arr_1,arr_2,arr_3])\n",
        "array_3d\n"
      ],
      "metadata": {
        "colab": {
          "base_uri": "https://localhost:8080/"
        },
        "id": "gbVx5pqe6iDo",
        "outputId": "c6d495c9-215c-4269-d1ed-529db1ea1332"
      },
      "execution_count": 59,
      "outputs": [
        {
          "output_type": "execute_result",
          "data": {
            "text/plain": [
              "array([[ 2,  6,  8,  3],\n",
              "       [ 3, 98,  1,  3],\n",
              "       [ 5,  1,  0,  5]])"
            ]
          },
          "metadata": {},
          "execution_count": 59
        }
      ]
    },
    {
      "cell_type": "markdown",
      "source": [
        "**Q1:create an evenly spaced array of numbers based on given start and stop values**"
      ],
      "metadata": {
        "id": "g4XXVVZF_UFe"
      }
    },
    {
      "cell_type": "code",
      "metadata": {
        "colab": {
          "base_uri": "https://localhost:8080/"
        },
        "id": "55758001",
        "outputId": "21b011b0-3eff-4453-c591-e2b692dcf732"
      },
      "source": [
        "\n",
        "import numpy as np\n",
        "evenly_spaced_array = np.linspace(0, 10, 5)\n",
        "\n",
        "print(\"Evenly spaced array:\")\n",
        "print(evenly_spaced_array)"
      ],
      "execution_count": 61,
      "outputs": [
        {
          "output_type": "stream",
          "name": "stdout",
          "text": [
            "Evenly spaced array:\n",
            "[ 0.   2.5  5.   7.5 10. ]\n"
          ]
        }
      ]
    },
    {
      "cell_type": "markdown",
      "source": [
        "**Q2:create an array of zeros that be filled with data later**"
      ],
      "metadata": {
        "id": "gMh4p4lw_gOG"
      }
    },
    {
      "cell_type": "code",
      "metadata": {
        "colab": {
          "base_uri": "https://localhost:8080/"
        },
        "id": "0c7fd384",
        "outputId": "28c38673-4f13-48ee-8ab0-9c03d7b1355d"
      },
      "source": [
        "\n",
        "import numpy as np\n",
        "\n",
        "zeros_array = np.zeros((2, 3))\n",
        "\n",
        "print(\"Array of zeros:\")\n",
        "print(zeros_array)"
      ],
      "execution_count": 63,
      "outputs": [
        {
          "output_type": "stream",
          "name": "stdout",
          "text": [
            "Array of zeros:\n",
            "[[0. 0. 0.]\n",
            " [0. 0. 0.]]\n"
          ]
        }
      ]
    },
    {
      "cell_type": "markdown",
      "source": [
        "**Q3:create an arrays of ones**"
      ],
      "metadata": {
        "id": "sjfSLn6N_lTc"
      }
    },
    {
      "cell_type": "code",
      "source": [
        "\n",
        "import numpy as np\n",
        "ones_array=np.ones((2,3))\n",
        "print(\"Array of oness:\")\n",
        "print(ones_array)"
      ],
      "metadata": {
        "colab": {
          "base_uri": "https://localhost:8080/"
        },
        "id": "Iq0LkqKw9xfm",
        "outputId": "fdbf8544-aea3-47cb-9827-c523c29a874d"
      },
      "execution_count": 65,
      "outputs": [
        {
          "output_type": "stream",
          "name": "stdout",
          "text": [
            "Array of oness:\n",
            "[[1. 1. 1.]\n",
            " [1. 1. 1.]]\n"
          ]
        }
      ]
    },
    {
      "cell_type": "markdown",
      "source": [
        "**Q4:create array of random floats between zero and one**"
      ],
      "metadata": {
        "id": "xN2Sqp71_sdk"
      }
    },
    {
      "cell_type": "code",
      "metadata": {
        "colab": {
          "base_uri": "https://localhost:8080/"
        },
        "id": "df567f7a",
        "outputId": "564408ff-76a7-4f83-87e6-1c748b99145f"
      },
      "source": [
        "\n",
        "import numpy as np\n",
        "random_floats_array = np.random.rand(3, 2)\n",
        "\n",
        "print(\"Array of random floats between 0 and 1:\")\n",
        "print(random_floats_array)"
      ],
      "execution_count": 66,
      "outputs": [
        {
          "output_type": "stream",
          "name": "stdout",
          "text": [
            "Array of random floats between 0 and 1:\n",
            "[[0.80296416 0.11978218]\n",
            " [0.17765612 0.84532196]\n",
            " [0.99696552 0.14658223]]\n"
          ]
        }
      ]
    },
    {
      "cell_type": "markdown",
      "source": [
        "**Q5:create 1D array and insert the values 1,2,3,4,5 and access the following elemnts**\n",
        "*   1st element\n",
        "*    2nd element\n",
        "*   range of elements from 1st to 3rd\n",
        "*   range of elements from 2nd element\n",
        "*   range of elements from index==2\n",
        "  \n"
      ],
      "metadata": {
        "id": "0uZZH2WJ_vuE"
      }
    },
    {
      "cell_type": "code",
      "metadata": {
        "colab": {
          "base_uri": "https://localhost:8080/"
        },
        "id": "85a1a5a7",
        "outputId": "9ad15b06-7a5d-40c4-a5b8-96aac600d66d"
      },
      "source": [
        "import numpy as np\n",
        "one_d_array = np.array([1, 2, 3, 4, 5])\n",
        "print(\"Original 1D array:\", one_d_array)"
      ],
      "execution_count": 67,
      "outputs": [
        {
          "output_type": "stream",
          "name": "stdout",
          "text": [
            "Original 1D array: [1 2 3 4 5]\n"
          ]
        }
      ]
    },
    {
      "cell_type": "code",
      "metadata": {
        "colab": {
          "base_uri": "https://localhost:8080/"
        },
        "id": "7e69f27c",
        "outputId": "bba1da26-a81e-4d50-98bc-b5c4258b4bf6"
      },
      "source": [
        "# Access the 1st element (index 0)\n",
        "first_element = one_d_array[0]\n",
        "print(\"\\n1st element:\", first_element)"
      ],
      "execution_count": 68,
      "outputs": [
        {
          "output_type": "stream",
          "name": "stdout",
          "text": [
            "\n",
            "1st element: 1\n"
          ]
        }
      ]
    },
    {
      "cell_type": "code",
      "metadata": {
        "colab": {
          "base_uri": "https://localhost:8080/"
        },
        "id": "89405c22",
        "outputId": "b94968c1-e6c2-43bc-ceff-e2026d9534cd"
      },
      "source": [
        "# Access the 2nd element (index 1)\n",
        "second_element = one_d_array[1]\n",
        "print(\"2nd element:\", second_element)"
      ],
      "execution_count": 69,
      "outputs": [
        {
          "output_type": "stream",
          "name": "stdout",
          "text": [
            "2nd element: 2\n"
          ]
        }
      ]
    },
    {
      "cell_type": "code",
      "metadata": {
        "colab": {
          "base_uri": "https://localhost:8080/"
        },
        "id": "55b7706d",
        "outputId": "01121dff-e309-4590-fe2e-a0c909df5219"
      },
      "source": [
        "# Access a range of elements from the 1st to the 3rd (indices 0, 1, 2)\n",
        "# Slicing is inclusive of the start index and exclusive of the stop index\n",
        "range_1_to_3 = one_d_array[0:3]\n",
        "print(\"Range of elements from 1st to 3rd:\", range_1_to_3)"
      ],
      "execution_count": 70,
      "outputs": [
        {
          "output_type": "stream",
          "name": "stdout",
          "text": [
            "Range of elements from 1st to 3rd: [1 2 3]\n"
          ]
        }
      ]
    },
    {
      "cell_type": "code",
      "metadata": {
        "colab": {
          "base_uri": "https://localhost:8080/"
        },
        "id": "bdd15530",
        "outputId": "4360951b-d53f-481f-97a9-0314cab7653b"
      },
      "source": [
        "# Access a range of elements from the 2nd element to the end\n",
        "# Leaving the stop index empty goes to the end of the array\n",
        "range_from_2nd = one_d_array[1:]\n",
        "print(\"Range of elements from 2nd element:\", range_from_2nd)"
      ],
      "execution_count": 71,
      "outputs": [
        {
          "output_type": "stream",
          "name": "stdout",
          "text": [
            "Range of elements from 2nd element: [2 3 4 5]\n"
          ]
        }
      ]
    },
    {
      "cell_type": "code",
      "metadata": {
        "colab": {
          "base_uri": "https://localhost:8080/"
        },
        "id": "1c4ab059",
        "outputId": "fa3191d7-ccd8-48d7-db57-6f250533cb30"
      },
      "source": [
        "# Access a range of elements from index 2 to the end\n",
        "range_from_index_2 = one_d_array[2:]\n",
        "print(\"Range of elements from index 2:\", range_from_index_2)"
      ],
      "execution_count": 72,
      "outputs": [
        {
          "output_type": "stream",
          "name": "stdout",
          "text": [
            "Range of elements from index 2: [3 4 5]\n"
          ]
        }
      ]
    },
    {
      "cell_type": "code",
      "source": [],
      "metadata": {
        "id": "ZpK8hRL--qMV"
      },
      "execution_count": null,
      "outputs": []
    }
  ]
}