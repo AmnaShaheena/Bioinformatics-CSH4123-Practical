{
  "nbformat": 4,
  "nbformat_minor": 0,
  "metadata": {
    "colab": {
      "provenance": [],
      "authorship_tag": "ABX9TyPl8zu5lxUQLzP9S6hVQtTe",
      "include_colab_link": true
    },
    "kernelspec": {
      "name": "python3",
      "display_name": "Python 3"
    },
    "language_info": {
      "name": "python"
    }
  },
  "cells": [
    {
      "cell_type": "markdown",
      "metadata": {
        "id": "view-in-github",
        "colab_type": "text"
      },
      "source": [
        "<a href=\"https://colab.research.google.com/github/AmnaShaheena/Bioinformatics-CSH4123-Practical/blob/main/Day02.ipynb\" target=\"_parent\"><img src=\"https://colab.research.google.com/assets/colab-badge.svg\" alt=\"Open In Colab\"/></a>"
      ]
    },
    {
      "cell_type": "code",
      "execution_count": 1,
      "metadata": {
        "colab": {
          "base_uri": "https://localhost:8080/"
        },
        "id": "tu_S2fVWAq-P",
        "outputId": "954b8e45-982b-47ac-ca40-9976409e92a5"
      },
      "outputs": [
        {
          "output_type": "stream",
          "name": "stdout",
          "text": [
            "Enter the number of lines: 5\n",
            "    * \n",
            "   * * \n",
            "  * * * \n",
            " * * * * \n",
            "* * * * * \n"
          ]
        }
      ],
      "source": [
        "#pattern\n",
        "n = int(input(\"Enter the number of lines: \"))\n",
        "\n",
        "for i in range(1, n + 1):\n",
        "\n",
        "    print(\" \" * (n - i), end=\"\")\n",
        "    print(\"* \" * i)"
      ]
    },
    {
      "cell_type": "code",
      "source": [
        "i = 1\n",
        "while i <= 10:\n",
        "    print(i,\"\", end=\"\")\n",
        "    i += 1"
      ],
      "metadata": {
        "colab": {
          "base_uri": "https://localhost:8080/"
        },
        "id": "Pn9FwQMlAuTq",
        "outputId": "0268b12f-cd67-4f60-9a54-1e2174304031"
      },
      "execution_count": 2,
      "outputs": [
        {
          "output_type": "stream",
          "name": "stdout",
          "text": [
            "1 2 3 4 5 6 7 8 9 10 "
          ]
        }
      ]
    },
    {
      "cell_type": "code",
      "source": [
        "#multiplication table\n",
        "for i in range(1,11):\n",
        "    for j in range(1,11):\n",
        "        print(i*j, end=\"\\t\")\n",
        "    print()"
      ],
      "metadata": {
        "colab": {
          "base_uri": "https://localhost:8080/"
        },
        "id": "1wAewdgAA1Ii",
        "outputId": "5d5c6bbd-f9b9-444d-bca1-b9861665e17b"
      },
      "execution_count": 6,
      "outputs": [
        {
          "output_type": "stream",
          "name": "stdout",
          "text": [
            "1\t2\t3\t4\t5\t6\t7\t8\t9\t10\t\n",
            "2\t4\t6\t8\t10\t12\t14\t16\t18\t20\t\n",
            "3\t6\t9\t12\t15\t18\t21\t24\t27\t30\t\n",
            "4\t8\t12\t16\t20\t24\t28\t32\t36\t40\t\n",
            "5\t10\t15\t20\t25\t30\t35\t40\t45\t50\t\n",
            "6\t12\t18\t24\t30\t36\t42\t48\t54\t60\t\n",
            "7\t14\t21\t28\t35\t42\t49\t56\t63\t70\t\n",
            "8\t16\t24\t32\t40\t48\t56\t64\t72\t80\t\n",
            "9\t18\t27\t36\t45\t54\t63\t72\t81\t90\t\n",
            "10\t20\t30\t40\t50\t60\t70\t80\t90\t100\t\n"
          ]
        }
      ]
    },
    {
      "cell_type": "code",
      "source": [
        "#count the number A,T,G,C nucleotides in thi DNA=\"ATGCGATACGCTTGA\"\n",
        "\n",
        "DNA=\"ATGCGATACGCTTGA\"\n",
        "countA=0;\n",
        "countT=0;\n",
        "countG=0;\n",
        "countC=0;\n",
        "\n",
        "for x in DNA:\n",
        "    if x =='A':\n",
        "        countA+=1\n",
        "    elif x =='T':\n",
        "        countT+=1\n",
        "    elif x =='G':\n",
        "        countG+=1\n",
        "    elif x =='C':\n",
        "        countC+=1\n",
        "\n",
        "print(\"A:\", countA)\n",
        "print(\"T:\", countT)\n",
        "print(\"G:\", countG)\n",
        "print(\"C:\", countC)"
      ],
      "metadata": {
        "colab": {
          "base_uri": "https://localhost:8080/"
        },
        "id": "9BJZpM32A2yC",
        "outputId": "f7758056-28ae-4588-b25b-f4faa32f61f7"
      },
      "execution_count": 4,
      "outputs": [
        {
          "output_type": "stream",
          "name": "stdout",
          "text": [
            "A: 4\n",
            "T: 4\n",
            "G: 4\n",
            "C: 3\n"
          ]
        }
      ]
    },
    {
      "cell_type": "code",
      "source": [
        "DNA = \"ATGCGATACGCTTGA\"\n",
        "\n",
        "countA = DNA.count('A')\n",
        "countT = DNA.count('T')\n",
        "countG = DNA.count('G')\n",
        "countC = DNA.count('C')\n",
        "\n",
        "print(\"A:\", countA)\n",
        "print(\"T:\", countT)\n",
        "print(\"G:\", countG)\n",
        "print(\"C:\", countC)"
      ],
      "metadata": {
        "colab": {
          "base_uri": "https://localhost:8080/"
        },
        "id": "trIiAOVGA4yi",
        "outputId": "5300c8fb-dbc6-47b8-92b4-4ed849c5ffc8"
      },
      "execution_count": 5,
      "outputs": [
        {
          "output_type": "stream",
          "name": "stdout",
          "text": [
            "A: 4\n",
            "T: 4\n",
            "G: 4\n",
            "C: 3\n"
          ]
        }
      ]
    },
    {
      "cell_type": "code",
      "source": [],
      "metadata": {
        "id": "na6q7E68A6Z6"
      },
      "execution_count": null,
      "outputs": []
    }
  ]
}